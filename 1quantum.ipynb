{
 "cells": [
  {
   "cell_type": "code",
   "execution_count": 101,
   "metadata": {},
   "outputs": [],
   "source": [
    "from qiskit import  QuantumCircuit, transpile, assemble\n",
    "import numpy as np\n",
    "import matplotlib.pyplot as plt\n",
    "import qiskit\n",
    "from qiskit_aer import Aer"
   ]
  },
  {
   "cell_type": "code",
   "execution_count": 102,
   "metadata": {},
   "outputs": [],
   "source": [
    "def deutsch_jozsa_algorithm(oracle):\n",
    "    n = oracle.num_qubits - 1\n",
    "#Since we're assuming that the last qubit is an ancilla qubit (used for the oracle), subtracting 1 from the total\n",
    "# number of qubits gives us the number of input qubits (n)."
   ]
  },
  {
   "cell_type": "code",
   "execution_count": 103,
   "metadata": {},
   "outputs": [],
   "source": [
    "n=3\n",
    "qc = QuantumCircuit(n + 1, n)    \n",
    "#This line creates a quantum circuit object named qc. The QuantumCircuit function is used to create this object. \n",
    "# It takes two arguments:\n",
    "\n",
    "#The first argument (n + 1): This represents the total number of qubits in the circuit. In this case, it is n + 1, where n is the number\n",
    "# of input qubits, and 1 is typically reserved for an ancilla qubit, which is often used in quantum algorithms and operations.\n",
    "\n",
    "#The second argument (n): This represents the number of classical bits to which the measurement results of \n",
    "# the qubits will be stored. In many quantum algorithms, including the Deutsch-Jozsa algorithm, it's common to have n\n",
    "# classical bits for storing measurement outcomes from n qubits."
   ]
  },
  {
   "cell_type": "code",
   "execution_count": 104,
   "metadata": {},
   "outputs": [
    {
     "data": {
      "text/plain": [
       "<qiskit.circuit.instructionset.InstructionSet at 0x1bdff66f310>"
      ]
     },
     "execution_count": 104,
     "metadata": {},
     "output_type": "execute_result"
    }
   ],
   "source": [
    "qc.h(range(n + 1))\n",
    "\n",
    "#qc.h(range(n + 1)) applies a Hadamard gate to each qubit in the quantum circuit qc, from qubit 0 to qubit n inclusive."
   ]
  },
  {
   "cell_type": "code",
   "execution_count": 105,
   "metadata": {},
   "outputs": [
    {
     "data": {
      "text/plain": [
       "<qiskit.circuit.instructionset.InstructionSet at 0x1bde377aa40>"
      ]
     },
     "execution_count": 105,
     "metadata": {},
     "output_type": "execute_result"
    }
   ],
   "source": [
    "qc.h(range(n))\n",
    "#This creates a superposition of all possible input states on the input qubits of the quantum circuit."
   ]
  },
  {
   "cell_type": "code",
   "execution_count": 69,
   "metadata": {},
   "outputs": [
    {
     "data": {
      "text/plain": [
       "<qiskit.circuit.instructionset.InstructionSet at 0x1bde377ab30>"
      ]
     },
     "execution_count": 69,
     "metadata": {},
     "output_type": "execute_result"
    }
   ],
   "source": [
    "qc.measure(range(n), range(n))"
   ]
  },
  {
   "cell_type": "code",
   "execution_count": 70,
   "metadata": {},
   "outputs": [],
   "source": [
    "backend = Aer.get_backend('qasm_simulator')\n",
    "#it creates a backend object that represents the QASM simulator provided by the Aer module in Qiskit.\n",
    "# The QASM simulator is capable of  simulating the execution of quantum circuits and providing measurement outcomes \n",
    "# as if they were run on an actual quantum device."
   ]
  },
  {
   "cell_type": "code",
   "execution_count": 71,
   "metadata": {},
   "outputs": [],
   "source": [
    "job_sim = transpile(qc, backend)\n",
    "#Transpilation in quantum computing refers to the process of transforming a quantum circuit into an equivalent circuit\n",
    "# that is optimized for execution on a specific quantum device or simulator.   "
   ]
  },
  {
   "cell_type": "code",
   "execution_count": 72,
   "metadata": {},
   "outputs": [
    {
     "name": "stderr",
     "output_type": "stream",
     "text": [
      "C:\\Users\\chait\\AppData\\Local\\Temp\\ipykernel_11820\\3823356625.py:1: DeprecationWarning: Using a qobj for run() is deprecated as of qiskit-aer 0.9.0 and will be removed no sooner than 3 months from that release date. Transpiled circuits should now be passed directly using `backend.run(circuits, **run_options).\n",
      "  result_sim = backend.run(assemble(job_sim)).result()\n"
     ]
    }
   ],
   "source": [
    "result_sim = backend.run(assemble(job_sim)).result()"
   ]
  },
  {
   "cell_type": "code",
   "execution_count": 73,
   "metadata": {},
   "outputs": [],
   "source": [
    "counts = result_sim.get_counts()\n"
   ]
  },
  {
   "cell_type": "code",
   "execution_count": 74,
   "metadata": {},
   "outputs": [
    {
     "name": "stdout",
     "output_type": "stream",
     "text": [
      "constant\n"
     ]
    }
   ],
   "source": [
    "def check_balanced(counts):\n",
    "    return 'constant' if len(counts) == 1 else 'balanced'\n",
    "\n",
    "\n",
    "counts = {'01': 1060}\n",
    "result = check_balanced(counts)\n",
    "print(result)  \n",
    "\n"
   ]
  },
  {
   "cell_type": "code",
   "execution_count": 75,
   "metadata": {},
   "outputs": [
    {
     "data": {
      "text/plain": [
       "<qiskit.circuit.instructionset.InstructionSet at 0x1bdff33ff70>"
      ]
     },
     "execution_count": 75,
     "metadata": {},
     "output_type": "execute_result"
    }
   ],
   "source": [
    "oracle_balanced = QuantumCircuit(2 + 1)\n",
    "oracle_balanced.cx(0, 2)\n",
    "oracle_balanced.cx(1, 2)"
   ]
  },
  {
   "cell_type": "code",
   "execution_count": 76,
   "metadata": {},
   "outputs": [
    {
     "data": {
      "text/plain": [
       "<qiskit.circuit.instructionset.InstructionSet at 0x1bdff33fa30>"
      ]
     },
     "execution_count": 76,
     "metadata": {},
     "output_type": "execute_result"
    }
   ],
   "source": [
    "oracle_constant = QuantumCircuit(2 + 1)\n",
    "oracle_constant.x(2)\n",
    "\n"
   ]
  },
  {
   "cell_type": "code",
   "execution_count": 77,
   "metadata": {},
   "outputs": [],
   "source": [
    "result_balanced = deutsch_jozsa_algorithm(oracle_balanced)\n",
    "result_constant = deutsch_jozsa_algorithm(oracle_constant)\n"
   ]
  },
  {
   "cell_type": "code",
   "execution_count": 78,
   "metadata": {},
   "outputs": [
    {
     "name": "stdout",
     "output_type": "stream",
     "text": [
      "0.86\n"
     ]
    }
   ],
   "source": [
    "def perform_some_calculations():\n",
    "    result = np.random.rand()\n",
    "    return result\n",
    "\n",
    "def calculate_result_balanced():\n",
    "    result = perform_some_calculations()\n",
    "    result_rounded = round(result, 2)\n",
    "    return result_rounded\n",
    "\n",
    "\n",
    "print(calculate_result_balanced())"
   ]
  },
  {
   "cell_type": "code",
   "execution_count": 80,
   "metadata": {},
   "outputs": [
    {
     "name": "stdout",
     "output_type": "stream",
     "text": [
      "84\n"
     ]
    }
   ],
   "source": [
    "def perform_some_calculations_constant():\n",
    "    constant_value = 42  \n",
    "    return constant_value\n",
    "\n",
    "def calculate_result_constant():\n",
    "    constant_result = perform_some_calculations_constant()\n",
    "    result = constant_result * 2  \n",
    "    return result\n",
    "\n",
    "\n",
    "print(calculate_result_constant())"
   ]
  },
  {
   "cell_type": "code",
   "execution_count": 81,
   "metadata": {},
   "outputs": [],
   "source": [
    "def calculate_result_balanced():\n",
    "    result = perform_some_calculations()\n",
    "    return result\n"
   ]
  },
  {
   "cell_type": "code",
   "execution_count": 82,
   "metadata": {},
   "outputs": [],
   "source": [
    "def calculate_result_balanced():\n",
    "    result_balanced = calculate_result_balanced()\n",
    "    result_constant = calculate_result_constant()\n"
   ]
  },
  {
   "cell_type": "code",
   "execution_count": 83,
   "metadata": {},
   "outputs": [],
   "source": [
    "def perform_balanced_calculation():\n",
    "    result = np.random.rand()\n",
    "    return result\n",
    "\n",
    "def perform_constant_calculation():\n",
    "    constant_value = 42 \n",
    "    return constant_value\n",
    "\n",
    "result_balanced = perform_balanced_calculation()\n",
    "result_constant = perform_constant_calculation()\n",
    "\n"
   ]
  },
  {
   "cell_type": "code",
   "execution_count": 84,
   "metadata": {},
   "outputs": [
    {
     "name": "stdout",
     "output_type": "stream",
     "text": [
      "Result for the balanced function: 0.3616316684987667\n",
      "Result for the constant function: 42\n"
     ]
    }
   ],
   "source": [
    "print(\"Result for the balanced function:\", result_balanced)\n",
    "print(\"Result for the constant function:\", result_constant)"
   ]
  },
  {
   "cell_type": "code",
   "execution_count": 85,
   "metadata": {},
   "outputs": [],
   "source": [
    "def deutsch_jozsa_oracle(qc, n, constant=True):\n",
    "    qc.h(range(n + 1))\n",
    "    qc.x(n)      # Applies an X gate (Pauli-X gate) to the ancilla qubit n.\n",
    "    qc.h(n)      \n",
    "    if not constant:\n",
    "        qc.x(range(n))\n",
    "    qc.cx(range(n), n)  #applies a controlled-NOT (CNOT) gate to each qubit \n",
    "    if not constant:\n",
    "        qc.x(range(n))\n",
    "    qc.h(range(n + 1))\n",
    "    qc.measure(range(n), range(n))"
   ]
  },
  {
   "cell_type": "code",
   "execution_count": 86,
   "metadata": {},
   "outputs": [],
   "source": [
    "qc_balanced = QuantumCircuit(n + 1, n)\n",
    "deutsch_jozsa_oracle(qc_balanced, n, constant=False)\n"
   ]
  },
  {
   "cell_type": "code",
   "execution_count": 87,
   "metadata": {},
   "outputs": [],
   "source": [
    "backend = Aer.get_backend('qasm_simulator')\n",
    "job_sim_balanced = transpile(qc_balanced, backend)\n"
   ]
  },
  {
   "cell_type": "code",
   "execution_count": 88,
   "metadata": {},
   "outputs": [
    {
     "name": "stderr",
     "output_type": "stream",
     "text": [
      "C:\\Users\\chait\\AppData\\Local\\Temp\\ipykernel_11820\\2104263616.py:1: DeprecationWarning: Using a qobj for run() is deprecated as of qiskit-aer 0.9.0 and will be removed no sooner than 3 months from that release date. Transpiled circuits should now be passed directly using `backend.run(circuits, **run_options).\n",
      "  result_sim_balanced = backend.run(assemble(job_sim_balanced)).result()\n"
     ]
    }
   ],
   "source": [
    "result_sim_balanced = backend.run(assemble(job_sim_balanced)).result()\n"
   ]
  },
  {
   "cell_type": "code",
   "execution_count": 90,
   "metadata": {},
   "outputs": [
    {
     "name": "stdout",
     "output_type": "stream",
     "text": [
      "Measurement outcome for balanced oracle: {'111': 502, '000': 522}\n"
     ]
    },
    {
     "name": "stderr",
     "output_type": "stream",
     "text": [
      "C:\\Users\\chait\\AppData\\Local\\Temp\\ipykernel_11820\\2289804245.py:4: DeprecationWarning: Using a qobj for run() is deprecated as of qiskit-aer 0.9.0 and will be removed no sooner than 3 months from that release date. Transpiled circuits should now be passed directly using `backend.run(circuits, **run_options).\n",
      "  result_sim = backend.run(assemble(job_sim)).result()\n"
     ]
    }
   ],
   "source": [
    "def get_counts_balanced(quantum_circuit):\n",
    "    backend = Aer.get_backend('qasm_simulator')\n",
    "    job_sim = transpile(quantum_circuit, backend)\n",
    "    result_sim = backend.run(assemble(job_sim)).result()\n",
    "    counts = result_sim.get_counts()\n",
    "\n",
    "    return counts\n",
    "counts_balanced = get_counts_balanced(qc_balanced)\n",
    "print(\"Measurement outcome for balanced oracle:\", counts_balanced)"
   ]
  },
  {
   "cell_type": "code",
   "execution_count": 91,
   "metadata": {},
   "outputs": [
    {
     "name": "stdout",
     "output_type": "stream",
     "text": [
      "Measurement outcome for balanced oracle: {'111': 502, '000': 522}\n"
     ]
    }
   ],
   "source": [
    "\n",
    "print(\"Measurement outcome for balanced oracle:\", counts_balanced)"
   ]
  },
  {
   "cell_type": "code",
   "execution_count": 92,
   "metadata": {},
   "outputs": [],
   "source": [
    "qc_constant = QuantumCircuit(n + 1, n)\n",
    "deutsch_jozsa_oracle(qc_constant, n, constant=True)"
   ]
  },
  {
   "cell_type": "code",
   "execution_count": 97,
   "metadata": {},
   "outputs": [
    {
     "name": "stdout",
     "output_type": "stream",
     "text": [
      "Measurement outcome for constant oracle: {'000': 520, '111': 504}\n",
      "Measurement outcome for balanced oracle: {'111': 502, '000': 522}\n"
     ]
    },
    {
     "name": "stderr",
     "output_type": "stream",
     "text": [
      "C:\\Users\\chait\\AppData\\Local\\Temp\\ipykernel_11820\\229133238.py:3: DeprecationWarning: Using a qobj for run() is deprecated as of qiskit-aer 0.9.0 and will be removed no sooner than 3 months from that release date. Transpiled circuits should now be passed directly using `backend.run(circuits, **run_options).\n",
      "  result_sim_constant = backend.run(assemble(job_sim_constant)).result()\n"
     ]
    }
   ],
   "source": [
    "backend = Aer.get_backend('qasm_simulator')\n",
    "job_sim_constant = transpile(qc_constant, backend)\n",
    "result_sim_constant = backend.run(assemble(job_sim_constant)).result()\n",
    "counts_constant = result_sim_constant.get_counts()\n",
    "print(\"Measurement outcome for constant oracle:\", counts_constant)\n",
    "print(\"Measurement outcome for balanced oracle:\", counts_balanced)"
   ]
  },
  {
   "cell_type": "code",
   "execution_count": 98,
   "metadata": {},
   "outputs": [
    {
     "name": "stdout",
     "output_type": "stream",
     "text": [
      "Result for the constant oracle: balanced\n",
      "Result for the balanced oracle: balanced\n"
     ]
    }
   ],
   "source": [
    "def check_balanced(counts):\n",
    "    num_unique_outcomes = len(counts)\n",
    "    total_counts = sum(counts.values())\n",
    "    if num_unique_outcomes == 1:\n",
    "        return 'constant'\n",
    "    elif num_unique_outcomes == 2 and total_counts % 2 == 0:\n",
    "        return 'balanced'\n",
    "    else:\n",
    "        return 'unknown'  \n",
    "\n",
    "counts_constant = {'00': 530, '11': 470}  \n",
    "counts_balanced = {'00': 530, '01': 530}   \n",
    "\n",
    "result_constant = check_balanced(counts_constant)\n",
    "result_balanced = check_balanced(counts_balanced)\n",
    "\n",
    "print(\"Result for the constant oracle:\", result_constant)\n",
    "print(\"Result for the balanced oracle:\", result_balanced)\n"
   ]
  },
  {
   "cell_type": "code",
   "execution_count": 99,
   "metadata": {},
   "outputs": [
    {
     "data": {
      "image/png": "[encoded data removed]",
      "text/plain": [
       "<Figure size 640x480 with 1 Axes>"
      ]
     },
     "metadata": {},
     "output_type": "display_data"
    },
    {
     "data": {
      "image/png": "[encoded data removed]",
      "text/plain": [
       "<Figure size 640x480 with 1 Axes>"
      ]
     },
     "metadata": {},
     "output_type": "display_data"
    }
   ],
   "source": [
    "def plot_histogram(counts, title):\n",
    "    plt.bar(counts.keys(), counts.values())\n",
    "    plt.xlabel('Result')\n",
    "    plt.ylabel('Frequency')\n",
    "    plt.title(title)\n",
    "    plt.show()\n",
    "    \n",
    "plot_histogram(counts_balanced, \"Measurement outcome for balanced oracle\")\n",
    "plot_histogram(counts_constant, \"Measurement outcome for constant oracle\")"
   ]
  }
 ],
 "metadata": {
  "kernelspec": {
   "display_name": "Python 3",
   "language": "python",
   "name": "python3"
  },
  "language_info": {
   "codemirror_mode": {
    "name": "ipython",
    "version": 3
   },
   "file_extension": ".py",
   "mimetype": "text/x-python",
   "name": "python",
   "nbconvert_exporter": "python",
   "pygments_lexer": "ipython3",
   "version": "3.11.8"
  }
 },
 "nbformat": 4,
 "nbformat_minor": 2
}
